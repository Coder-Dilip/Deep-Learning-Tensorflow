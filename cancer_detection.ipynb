{
  "nbformat": 4,
  "nbformat_minor": 0,
  "metadata": {
    "colab": {
      "provenance": [],
      "authorship_tag": "ABX9TyMUabJ0kXzjgN3+y4B9wsv+",
      "include_colab_link": true
    },
    "kernelspec": {
      "name": "python3",
      "display_name": "Python 3"
    },
    "language_info": {
      "name": "python"
    }
  },
  "cells": [
    {
      "cell_type": "markdown",
      "metadata": {
        "id": "view-in-github",
        "colab_type": "text"
      },
      "source": [
        "<a href=\"https://colab.research.google.com/github/Coder-Dilip/Deep-Learning-Tensorflow/blob/main/cancer_detection.ipynb\" target=\"_parent\"><img src=\"https://colab.research.google.com/assets/colab-badge.svg\" alt=\"Open In Colab\"/></a>"
      ]
    },
    {
      "cell_type": "code",
      "execution_count": null,
      "metadata": {
        "id": "E5hUZeXndcHQ"
      },
      "outputs": [],
      "source": [
        "import matplotlib.pyplot as plt\n",
        "%matplotlib inline"
      ]
    },
    {
      "cell_type": "code",
      "source": [
        "import tensorflow as tf"
      ],
      "metadata": {
        "id": "2NDPY0G0dsQ7"
      },
      "execution_count": null,
      "outputs": []
    },
    {
      "cell_type": "code",
      "source": [
        "from PIL import Image\n",
        "import cv2"
      ],
      "metadata": {
        "id": "WGNo-ni0duz_"
      },
      "execution_count": null,
      "outputs": []
    },
    {
      "cell_type": "code",
      "source": [
        "df=pd.DataFrame()\n",
        "df['path']='path'\n",
        "df['label']='label'\n",
        "benign_path='../input/skin-cancer-malignant-vs-benign/train/benign'\n",
        "for el in os.listdir(benign_path):\n",
        "    if '.jpg' in el:\n",
        "        df=df.append({'path':benign_path+'/'+el,'label':0},ignore_index=True)\n",
        "    "
      ],
      "metadata": {
        "id": "uLBESQg2dx1S"
      },
      "execution_count": null,
      "outputs": []
    },
    {
      "cell_type": "code",
      "source": [
        "malignant_path='../input/skin-cancer-malignant-vs-benign/train/malignant'\n",
        "for el in os.listdir(malignant_path):\n",
        "    df=df.append({'path':malignant_path+'/'+el,'label':1},ignore_index=True)"
      ],
      "metadata": {
        "id": "Ey3Ho_sTd0q7"
      },
      "execution_count": null,
      "outputs": []
    },
    {
      "cell_type": "code",
      "source": [
        "img=plt.imread(df.iloc[600]['path'])\n",
        "plt.imshow(img)"
      ],
      "metadata": {
        "id": "emeivTT_d4kg"
      },
      "execution_count": null,
      "outputs": []
    },
    {
      "cell_type": "code",
      "source": [
        "x=[]\n",
        "for el in df['path']:\n",
        "    x.append(cv2.resize(cv2.imread(el, cv2.IMREAD_UNCHANGED),(150,150), interpolation = cv2.INTER_AREA))\n"
      ],
      "metadata": {
        "id": "xSSBhkJ1d8F6"
      },
      "execution_count": null,
      "outputs": []
    },
    {
      "cell_type": "code",
      "source": [
        "x=np.array(x)"
      ],
      "metadata": {
        "id": "8Mdg9DIeeB_E"
      },
      "execution_count": null,
      "outputs": []
    },
    {
      "cell_type": "code",
      "source": [
        "model=tf.keras.Sequential([\n",
        "    tf.keras.layers.Conv2D(32,(3,3),activation='relu',input_shape=(150,150,3)),\n",
        "    tf.keras.layers.MaxPooling2D(2,2),\n",
        "    tf.keras.layers.Conv2D(64,(3,3),activation='relu'),\n",
        "    tf.keras.layers.MaxPooling2D(2,2),\n",
        "    tf.keras.layers.Conv2D(50,(3,3),activation='relu'),\n",
        "    tf.keras.layers.MaxPooling2D(2,2),\n",
        "    tf.keras.layers.Flatten(),\n",
        "    tf.keras.layers.Dense(512,activation='relu'),\n",
        "    tf.keras.layers.Dropout(0.2),\n",
        "    tf.keras.layers.Dense(1,activation='sigmoid')\n",
        "])\n",
        "\n",
        "model.compile(loss=tf.keras.losses.BinaryCrossentropy(),optimizer=tf.keras.optimizers.Adam(learning_rate=0.0001),metrics=['accuracy'])\n",
        "\n",
        "model.fit(tf.convert_to_tensor(x,dtype='float32'),tf.convert_to_tensor(np.array(df['label']),dtype='float32'),epochs=20)"
      ],
      "metadata": {
        "id": "zYd_d4iYeNjT"
      },
      "execution_count": null,
      "outputs": []
    },
    {
      "cell_type": "code",
      "source": [
        "\n",
        "test_paths=[]\n",
        "test_labels=[]\n",
        "benign_path='../input/skin-cancer-malignant-vs-benign/test/benign'\n",
        "for el in os.listdir(benign_path):\n",
        "    if '.jpg' in el:\n",
        "        test_paths.append(benign_path+'/'+el)\n",
        "        test_labels.append(0)"
      ],
      "metadata": {
        "id": "i5KpaRcveOes"
      },
      "execution_count": null,
      "outputs": []
    },
    {
      "cell_type": "code",
      "source": [
        "malignant_path='../input/skin-cancer-malignant-vs-benign/test/malignant'\n",
        "for el in os.listdir(malignant_path):\n",
        "    if '.jpg' in el:\n",
        "        test_paths.append(malignant_path+'/'+el)\n",
        "        test_labels.append(1)"
      ],
      "metadata": {
        "id": "weNXx6YLeUZg"
      },
      "execution_count": null,
      "outputs": []
    },
    {
      "cell_type": "code",
      "source": [
        "x_test=[]\n",
        "for el in test_paths:\n",
        "    x_test.append(cv2.resize(cv2.imread(el, cv2.IMREAD_UNCHANGED),(150,150), interpolation = cv2.INTER_AREA))\n"
      ],
      "metadata": {
        "id": "9DEg3cKyeXIY"
      },
      "execution_count": null,
      "outputs": []
    },
    {
      "cell_type": "code",
      "source": [
        "x_tests=tf.convert_to_tensor(x_test,dtype='float32')\n",
        "y_tests=tf.convert_to_tensor(test_labels,dtype='float32')"
      ],
      "metadata": {
        "id": "YgOaTl4oegdH"
      },
      "execution_count": null,
      "outputs": []
    },
    {
      "cell_type": "code",
      "source": [
        "print(model.evaluate(x_tests,y_tests))"
      ],
      "metadata": {
        "id": "_KB_3X-7ekjL"
      },
      "execution_count": null,
      "outputs": []
    },
    {
      "cell_type": "code",
      "source": [
        "model.save('my_model.h5') "
      ],
      "metadata": {
        "id": "YbL4dGa5enkD"
      },
      "execution_count": null,
      "outputs": []
    },
    {
      "cell_type": "code",
      "source": [
        "new_model = tf.keras.models.load_model('my_model.h5')"
      ],
      "metadata": {
        "id": "DTC9ZK49eszD"
      },
      "execution_count": null,
      "outputs": []
    },
    {
      "cell_type": "code",
      "source": [
        "new_model.summary()"
      ],
      "metadata": {
        "id": "OoQEcZAxexCr"
      },
      "execution_count": null,
      "outputs": []
    },
    {
      "cell_type": "code",
      "source": [
        "new_model.evaluate(x_tests,y_tests)"
      ],
      "metadata": {
        "id": "Xy6CzTA9fE4b"
      },
      "execution_count": null,
      "outputs": []
    },
    {
      "cell_type": "code",
      "source": [
        "from IPython.display import FileLink\n",
        "FileLink(r'my_model.h5')\n",
        "#click that blue file name for download link"
      ],
      "metadata": {
        "id": "b8uPbn53e_6q"
      },
      "execution_count": null,
      "outputs": []
    }
  ]
}