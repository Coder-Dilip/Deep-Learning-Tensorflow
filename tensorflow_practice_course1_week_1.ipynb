{
  "nbformat": 4,
  "nbformat_minor": 0,
  "metadata": {
    "colab": {
      "name": "tensorflow practice course1 week 1.ipynb",
      "provenance": [],
      "authorship_tag": "ABX9TyPjUA1VdQ/X5xMKFuJEk3xm",
      "include_colab_link": true
    },
    "kernelspec": {
      "name": "python3",
      "display_name": "Python 3"
    },
    "language_info": {
      "name": "python"
    }
  },
  "cells": [
    {
      "cell_type": "markdown",
      "metadata": {
        "id": "view-in-github",
        "colab_type": "text"
      },
      "source": [
        "<a href=\"https://colab.research.google.com/github/Coder-Dilip/Deep-Learning-Tensorflow/blob/main/tensorflow_practice_course1_week_1.ipynb\" target=\"_parent\"><img src=\"https://colab.research.google.com/assets/colab-badge.svg\" alt=\"Open In Colab\"/></a>"
      ]
    },
    {
      "cell_type": "code",
      "execution_count": null,
      "metadata": {
        "id": "4M2lsXMDq6fv"
      },
      "outputs": [],
      "source": [
        "import tensorflow as tf\n",
        "import numpy as np"
      ]
    },
    {
      "cell_type": "code",
      "source": [
        "xs = np.array([     [[[1.0],[2.0]]],   [[[2.0],[6.0]]],    [[[3.0], [4.0]]],     [[[5.0], [6.0]]]   ], dtype=float)\n",
        "ys = np.array([[3.0],[8.0],[7.0],[11.0]], dtype=float)"
      ],
      "metadata": {
        "id": "ioXnQrjeq_kb"
      },
      "execution_count": null,
      "outputs": []
    },
    {
      "cell_type": "code",
      "source": [
        "xs[0].shape"
      ],
      "metadata": {
        "colab": {
          "base_uri": "https://localhost:8080/"
        },
        "id": "m92ckghut5aX",
        "outputId": "f7f9d5b5-5d68-4ed8-8d90-de768d8279e9"
      },
      "execution_count": null,
      "outputs": [
        {
          "output_type": "execute_result",
          "data": {
            "text/plain": [
              "(1, 2, 1)"
            ]
          },
          "metadata": {},
          "execution_count": 103
        }
      ]
    },
    {
      "cell_type": "code",
      "source": [
        "xs.shape"
      ],
      "metadata": {
        "colab": {
          "base_uri": "https://localhost:8080/"
        },
        "id": "XDz2gNqXu1sQ",
        "outputId": "98de2f9f-1a75-426b-c3ce-1bc1fd07cc0f"
      },
      "execution_count": null,
      "outputs": [
        {
          "output_type": "execute_result",
          "data": {
            "text/plain": [
              "(4, 1, 2)"
            ]
          },
          "metadata": {},
          "execution_count": 91
        }
      ]
    },
    {
      "cell_type": "code",
      "source": [
        "ys.shape"
      ],
      "metadata": {
        "colab": {
          "base_uri": "https://localhost:8080/"
        },
        "id": "2vzrXAL7u3o0",
        "outputId": "f7e3f7c6-3aac-4994-eae7-fcb31c93d038"
      },
      "execution_count": null,
      "outputs": [
        {
          "output_type": "execute_result",
          "data": {
            "text/plain": [
              "(4, 1)"
            ]
          },
          "metadata": {},
          "execution_count": 54
        }
      ]
    },
    {
      "cell_type": "code",
      "source": [
        "xs[0]"
      ],
      "metadata": {
        "colab": {
          "base_uri": "https://localhost:8080/"
        },
        "id": "sSm4CECRwdL-",
        "outputId": "5dae230d-ec54-490f-e28d-eb93ecdeec52"
      },
      "execution_count": null,
      "outputs": [
        {
          "output_type": "execute_result",
          "data": {
            "text/plain": [
              "array([[[1.],\n",
              "        [2.]]])"
            ]
          },
          "metadata": {},
          "execution_count": 120
        }
      ]
    },
    {
      "cell_type": "code",
      "source": [
        "tf.random.set_seed(12)\n",
        "\n",
        "model=tf.keras.Sequential(\n",
        "    [\n",
        "     tf.keras.layers.Flatten(),\n",
        "     tf.keras.layers.Dense(1,input_shape=(2,))\n",
        "    ]\n",
        ")\n",
        "\n",
        "model.compile(loss=\"mean_squared_error\",optimizer=tf.keras.optimizers.Adam(learning_rate=0.1))\n",
        "\n",
        "\n",
        "model.fit(xs,ys, epochs=500, verbose=False)\n",
        "\n"
      ],
      "metadata": {
        "colab": {
          "base_uri": "https://localhost:8080/"
        },
        "id": "QnT9CzzzrDjB",
        "outputId": "0f111906-4f9f-4190-88b8-91a609bb3639"
      },
      "execution_count": null,
      "outputs": [
        {
          "output_type": "execute_result",
          "data": {
            "text/plain": [
              "<keras.callbacks.History at 0x7fa4df323750>"
            ]
          },
          "metadata": {},
          "execution_count": 138
        }
      ]
    },
    {
      "cell_type": "code",
      "source": [
        "model.predict([   [[[1.0],[2.0]]],   [[[2.0],[6.0]]],     [[[3.0], [4.0]]],    [[[5.0], [6.0]]]  ])"
      ],
      "metadata": {
        "colab": {
          "base_uri": "https://localhost:8080/"
        },
        "id": "880QHtLCsbng",
        "outputId": "afda64fc-ba4f-4491-f645-dce80bf4bc9f"
      },
      "execution_count": null,
      "outputs": [
        {
          "output_type": "execute_result",
          "data": {
            "text/plain": [
              "array([[ 3.0143883],\n",
              "       [ 7.992202 ],\n",
              "       [ 7.0057874],\n",
              "       [10.997187 ]], dtype=float32)"
            ]
          },
          "metadata": {},
          "execution_count": 139
        }
      ]
    }
  ]
}